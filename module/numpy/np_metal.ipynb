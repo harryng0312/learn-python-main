{
 "cells": [
  {
   "cell_type": "code",
   "execution_count": 1,
   "metadata": {},
   "outputs": [],
   "source": [
    "import platform\n",
    "import numpy as np\n",
    "import ctypes\n",
    "import time\n",
    "import math\n",
    "import time\n",
    "from sklearn.metrics.pairwise import cosine_similarity\n",
    "import matplotlib.pyplot as plt"
   ]
  },
  {
   "cell_type": "code",
   "execution_count": 2,
   "metadata": {},
   "outputs": [
    {
     "name": "stdout",
     "output_type": "stream",
     "text": [
      "Python 3.11.4\n"
     ]
    }
   ],
   "source": [
    "!python --version"
   ]
  },
  {
   "cell_type": "markdown",
   "metadata": {},
   "source": [
    "## Code"
   ]
  },
  {
   "cell_type": "code",
   "execution_count": 3,
   "metadata": {},
   "outputs": [
    {
     "ename": "OSError",
     "evalue": "dlopen(./PyMetalBridge/.build/release/libPyMetalBridge.dylib, 0x0006): tried: './PyMetalBridge/.build/release/libPyMetalBridge.dylib' (no such file), '/System/Volumes/Preboot/Cryptexes/OS./PyMetalBridge/.build/release/libPyMetalBridge.dylib' (no such file), '/Volumes/working/tools/conda/envs/learn-python/lib/python3.11/lib-dynload/../.././PyMetalBridge/.build/release/libPyMetalBridge.dylib' (no such file), '/Volumes/working/tools/conda/envs/learn-python/bin/../lib/./PyMetalBridge/.build/release/libPyMetalBridge.dylib' (no such file), '/usr/lib/./PyMetalBridge/.build/release/libPyMetalBridge.dylib' (no such file, not in dyld cache), './PyMetalBridge/.build/release/libPyMetalBridge.dylib' (no such file)",
     "output_type": "error",
     "traceback": [
      "\u001b[0;31m---------------------------------------------------------------------------\u001b[0m",
      "\u001b[0;31mOSError\u001b[0m                                   Traceback (most recent call last)",
      "Cell \u001b[0;32mIn[3], line 2\u001b[0m\n\u001b[1;32m      1\u001b[0m \u001b[39m# Loads dylib like dlopen\u001b[39;00m\n\u001b[0;32m----> 2\u001b[0m swift_fun \u001b[39m=\u001b[39m ctypes\u001b[39m.\u001b[39;49mCDLL(\u001b[39m\"\u001b[39;49m\u001b[39m./PyMetalBridge/.build/release/libPyMetalBridge.dylib\u001b[39;49m\u001b[39m\"\u001b[39;49m)\n\u001b[1;32m      4\u001b[0m \u001b[39m# decleare arguments for function pointer\u001b[39;00m\n\u001b[1;32m      5\u001b[0m swift_fun\u001b[39m.\u001b[39mswift_sigmoid_on_gpu\u001b[39m.\u001b[39margtypes \u001b[39m=\u001b[39m [\n\u001b[1;32m      6\u001b[0m     ctypes\u001b[39m.\u001b[39mPOINTER(ctypes\u001b[39m.\u001b[39mc_float), \n\u001b[1;32m      7\u001b[0m     ctypes\u001b[39m.\u001b[39mPOINTER(ctypes\u001b[39m.\u001b[39mc_float), \n\u001b[1;32m      8\u001b[0m     ctypes\u001b[39m.\u001b[39mc_int\n\u001b[1;32m      9\u001b[0m ]\n",
      "File \u001b[0;32m~/conda/envs/learn-python/lib/python3.11/ctypes/__init__.py:376\u001b[0m, in \u001b[0;36mCDLL.__init__\u001b[0;34m(self, name, mode, handle, use_errno, use_last_error, winmode)\u001b[0m\n\u001b[1;32m    373\u001b[0m \u001b[39mself\u001b[39m\u001b[39m.\u001b[39m_FuncPtr \u001b[39m=\u001b[39m _FuncPtr\n\u001b[1;32m    375\u001b[0m \u001b[39mif\u001b[39;00m handle \u001b[39mis\u001b[39;00m \u001b[39mNone\u001b[39;00m:\n\u001b[0;32m--> 376\u001b[0m     \u001b[39mself\u001b[39m\u001b[39m.\u001b[39m_handle \u001b[39m=\u001b[39m _dlopen(\u001b[39mself\u001b[39;49m\u001b[39m.\u001b[39;49m_name, mode)\n\u001b[1;32m    377\u001b[0m \u001b[39melse\u001b[39;00m:\n\u001b[1;32m    378\u001b[0m     \u001b[39mself\u001b[39m\u001b[39m.\u001b[39m_handle \u001b[39m=\u001b[39m handle\n",
      "\u001b[0;31mOSError\u001b[0m: dlopen(./PyMetalBridge/.build/release/libPyMetalBridge.dylib, 0x0006): tried: './PyMetalBridge/.build/release/libPyMetalBridge.dylib' (no such file), '/System/Volumes/Preboot/Cryptexes/OS./PyMetalBridge/.build/release/libPyMetalBridge.dylib' (no such file), '/Volumes/working/tools/conda/envs/learn-python/lib/python3.11/lib-dynload/../.././PyMetalBridge/.build/release/libPyMetalBridge.dylib' (no such file), '/Volumes/working/tools/conda/envs/learn-python/bin/../lib/./PyMetalBridge/.build/release/libPyMetalBridge.dylib' (no such file), '/usr/lib/./PyMetalBridge/.build/release/libPyMetalBridge.dylib' (no such file, not in dyld cache), './PyMetalBridge/.build/release/libPyMetalBridge.dylib' (no such file)"
     ]
    }
   ],
   "source": [
    "# Loads dylib like dlopen\n",
    "swift_fun = ctypes.CDLL(\"./PyMetalBridge/.build/release/libPyMetalBridge.dylib\")\n",
    "\n",
    "# decleare arguments for function pointer\n",
    "swift_fun.swift_sigmoid_on_gpu.argtypes = [\n",
    "    ctypes.POINTER(ctypes.c_float), \n",
    "    ctypes.POINTER(ctypes.c_float), \n",
    "    ctypes.c_int\n",
    "]\n",
    "\n",
    "def swift_sigmoid_on_gpu(input_array):\n",
    "    input_ptr = input_array.ctypes.data_as(ctypes.POINTER(ctypes.c_float))\n",
    "    output_mutable_ptr = (ctypes.c_float * len(input_array))()\n",
    "    swift_fun.swift_sigmoid_on_gpu(input_ptr, output_mutable_ptr, len(input_array))\n",
    "    return np.array(output_mutable_ptr)"
   ]
  },
  {
   "cell_type": "code",
   "execution_count": null,
   "metadata": {},
   "outputs": [],
   "source": [
    "input_array = np.random.uniform(-1, 1, 100).astype(\"float32\") # data type have to be float32 for GPU\n",
    "swift_result = swift_sigmoid_on_gpu(input_array)\n",
    "swift_result"
   ]
  },
  {
   "cell_type": "code",
   "execution_count": null,
   "metadata": {},
   "outputs": [],
   "source": [
    "def sigmoid(x):\n",
    "    return 1 / (1 + np.exp(-x))\n",
    "\n",
    "python_result = sigmoid(input_array).astype(\"float32\")"
   ]
  },
  {
   "cell_type": "code",
   "execution_count": null,
   "metadata": {},
   "outputs": [],
   "source": [
    "# Returns a matrix whose elements are all 1, if the 2 vectors are same\n",
    "cosine_similarity([python_result, python_result])"
   ]
  },
  {
   "cell_type": "code",
   "execution_count": null,
   "metadata": {},
   "outputs": [],
   "source": [
    "cosine_similarity([swift_result, python_result])"
   ]
  },
  {
   "cell_type": "markdown",
   "metadata": {},
   "source": [
    "## Benmark"
   ]
  },
  {
   "cell_type": "code",
   "execution_count": null,
   "metadata": {},
   "outputs": [],
   "source": [
    "def f(x):\n",
    "    approximate = 0\n",
    "    for coeff in range(1, 10000, 2):\n",
    "        approximate += (1/coeff)*np.sin(coeff*x)\n",
    "        \n",
    "    return approximate"
   ]
  },
  {
   "cell_type": "code",
   "execution_count": null,
   "metadata": {},
   "outputs": [],
   "source": [
    "def differential(f, x):\n",
    "    delta = 1e-4\n",
    "    return (f(x+delta) - f(x-delta)) / 2*delta"
   ]
  },
  {
   "cell_type": "markdown",
   "metadata": {},
   "source": [
    "### Numpy"
   ]
  },
  {
   "cell_type": "code",
   "execution_count": null,
   "metadata": {},
   "outputs": [],
   "source": [
    "input_array = np.arange(-50, 50, 0.001).astype(\"float32\") # have to be float32 for GPU\n",
    "input_array.shape"
   ]
  },
  {
   "cell_type": "code",
   "execution_count": null,
   "metadata": {},
   "outputs": [],
   "source": [
    "%%time\n",
    "python_result = np.apply_along_axis(lambda x: differential(f, x), 0, input_array)"
   ]
  },
  {
   "cell_type": "markdown",
   "metadata": {},
   "source": [
    "### Metal"
   ]
  },
  {
   "cell_type": "code",
   "execution_count": null,
   "metadata": {},
   "outputs": [],
   "source": [
    "swift_fun = ctypes.CDLL(\"./PyMetalBridge/.build/release/libPyMetalBridge.dylib\")\n",
    "\n",
    "# decleare arguments type\n",
    "swift_fun.swift_differential_on_gpu.argtypes = [\n",
    "    ctypes.POINTER(ctypes.c_float), \n",
    "    ctypes.POINTER(ctypes.c_float),\n",
    "    ctypes.c_int\n",
    "]\n",
    "\n",
    "def swift_differential_on_gpu(input_array):\n",
    "    input_ptr = input_array.ctypes.data_as(ctypes.POINTER(ctypes.c_float))\n",
    "    output_mutable_ptr = (ctypes.c_float * len(input_array))()\n",
    "    swift_fun.swift_differential_on_gpu(input_ptr, output_mutable_ptr, len(input_array))\n",
    "    return np.array(output_mutable_ptr)"
   ]
  },
  {
   "cell_type": "code",
   "execution_count": null,
   "metadata": {},
   "outputs": [],
   "source": [
    "%%time\n",
    "swift_result = swift_differential_on_gpu(input_array)"
   ]
  },
  {
   "cell_type": "code",
   "execution_count": null,
   "metadata": {},
   "outputs": [],
   "source": [
    "%%time\n",
    "swift_result = swift_differential_on_gpu(input_array)"
   ]
  },
  {
   "cell_type": "markdown",
   "metadata": {},
   "source": [
    "### Validate result"
   ]
  },
  {
   "cell_type": "code",
   "execution_count": null,
   "metadata": {},
   "outputs": [],
   "source": [
    "swift_result.shape, python_result.shape"
   ]
  },
  {
   "cell_type": "code",
   "execution_count": null,
   "metadata": {},
   "outputs": [],
   "source": [
    "cosine_similarity([python_result, python_result])"
   ]
  },
  {
   "cell_type": "code",
   "execution_count": null,
   "metadata": {},
   "outputs": [],
   "source": [
    "cosine_similarity([swift_result, python_result.astype(\"float32\")])"
   ]
  },
  {
   "cell_type": "markdown",
   "metadata": {},
   "source": [
    "### Performance comparison between Numpy and Metal"
   ]
  },
  {
   "cell_type": "code",
   "execution_count": null,
   "metadata": {},
   "outputs": [],
   "source": [
    "def measure(f):\n",
    "    elapsed_logs = []\n",
    "    for i in range(10):\n",
    "        input_array = np.random.uniform(-50, 50, 100000).astype(\"float32\")\n",
    "        start = time.time()\n",
    "        f(input_array)\n",
    "        end = time.time()\n",
    "        elapsed_logs.append(end - start)\n",
    "        \n",
    "    return elapsed_logs"
   ]
  },
  {
   "cell_type": "code",
   "execution_count": null,
   "metadata": {},
   "outputs": [],
   "source": [
    "# np.apply_along_axis\n",
    "python_results = measure(lambda input_array: np.apply_along_axis(lambda x: differential(f, x), 0, input_array))"
   ]
  },
  {
   "cell_type": "code",
   "execution_count": null,
   "metadata": {},
   "outputs": [],
   "source": [
    "print(\"Python time elapsed (second)\")\n",
    "python_results"
   ]
  },
  {
   "cell_type": "code",
   "execution_count": null,
   "metadata": {},
   "outputs": [],
   "source": [
    "# Metal\n",
    "swift_results = measure(swift_differential_on_gpu)"
   ]
  },
  {
   "cell_type": "code",
   "execution_count": null,
   "metadata": {},
   "outputs": [],
   "source": [
    "print(\"Metal time elapsed (second)\")\n",
    "swift_results"
   ]
  },
  {
   "cell_type": "code",
   "execution_count": null,
   "metadata": {},
   "outputs": [],
   "source": [
    "%matplotlib inline\n",
    "\n",
    "fig, ax = plt.subplots(figsize=(10, 4))\n",
    "\n",
    "ax.plot(range(10), swift_results, '-o', label='Python+Metal')\n",
    "ax.plot(range(10), python_results, '-o', label='Python + Numpy')\n",
    "ax.set_title('Numpy and Metal performance comprison')\n",
    "ax.set_xlabel('iteration')\n",
    "ax.set_ylabel('time elapsed (second)')\n",
    "ax.grid(True)\n",
    "ax.legend()"
   ]
  }
 ],
 "metadata": {
  "kernelspec": {
   "display_name": "learn-python",
   "language": "python",
   "name": "python3"
  },
  "language_info": {
   "codemirror_mode": {
    "name": "ipython",
    "version": 3
   },
   "file_extension": ".py",
   "mimetype": "text/x-python",
   "name": "python",
   "nbconvert_exporter": "python",
   "pygments_lexer": "ipython3",
   "version": "3.11.4"
  },
  "orig_nbformat": 4
 },
 "nbformat": 4,
 "nbformat_minor": 2
}
