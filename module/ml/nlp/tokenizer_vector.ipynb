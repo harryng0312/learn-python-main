{
 "cells": [
  {
   "cell_type": "code",
   "execution_count": 1,
   "metadata": {},
   "outputs": [],
   "source": [
    "import numpy as np\n",
    "import tqdm as tqdm\n",
    "\n",
    "from module.conf import PROJECT_DIR"
   ]
  },
  {
   "cell_type": "code",
   "execution_count": 6,
   "metadata": {},
   "outputs": [
    {
     "name": "stderr",
     "output_type": "stream",
     "text": [
      "2196018it [01:28, 24823.97it/s]\n"
     ]
    },
    {
     "data": {
      "text/plain": [
       "2195885"
      ]
     },
     "execution_count": 6,
     "metadata": {},
     "output_type": "execute_result"
    }
   ],
   "source": [
    "embedding_idx = {}\n",
    "with open(PROJECT_DIR + \"/data/lstm/glove.840B.300d.txt\", \"r\") as f:\n",
    "    for line in tqdm.tqdm(f):\n",
    "        vals = line.split()\n",
    "        embedding_idx[vals[0]] = np.asarray(vals[1:])\n",
    "        pass\n",
    "    pass\n",
    "len(embedding_idx)"
   ]
  },
  {
   "cell_type": "code",
   "execution_count": null,
   "metadata": {},
   "outputs": [],
   "source": [
    "emebedded_matrix = np.zeros(shape=(len(embedding_idx) + 1, 300)"
   ]
  },
  {
   "cell_type": "code",
   "execution_count": null,
   "metadata": {},
   "outputs": [],
   "source": [
    "# custokenizer.tokenize(text=line)\n",
    "encoded_text = custokenizer.encode(text=line)\n",
    "custokenizer.convert_tokens_to_ids()\n",
    "encoded_text\n",
    "\n"
   ]
  }
 ],
 "metadata": {
  "kernelspec": {
   "display_name": "learn-python",
   "language": "python",
   "name": "python3"
  },
  "language_info": {
   "codemirror_mode": {
    "name": "ipython",
    "version": 3
   },
   "file_extension": ".py",
   "mimetype": "text/x-python",
   "name": "python",
   "nbconvert_exporter": "python",
   "pygments_lexer": "ipython3",
   "version": "3.10.13"
  }
 },
 "nbformat": 4,
 "nbformat_minor": 2
}
