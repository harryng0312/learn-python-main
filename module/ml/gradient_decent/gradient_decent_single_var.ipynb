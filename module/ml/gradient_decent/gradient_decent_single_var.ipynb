{
 "cells": [
  {
   "attachments": {},
   "cell_type": "markdown",
   "metadata": {},
   "source": [
    "# Import"
   ]
  },
  {
   "cell_type": "code",
   "execution_count": 1,
   "metadata": {
    "ExecuteTime": {
     "end_time": "2023-07-05T04:10:00.139949Z",
     "start_time": "2023-07-05T04:09:59.810769Z"
    }
   },
   "outputs": [],
   "source": [
    "import math\n",
    "import numpy as np\n",
    "import matplotlib.pyplot as plt"
   ]
  },
  {
   "attachments": {},
   "cell_type": "markdown",
   "metadata": {},
   "source": [
    "1. Declare function\n",
    "- Cost funtion: *f(x) = x**2 + 5*sin(x)*\n",
    "- Gradient: *f'(x) = 2*x + 5*cos(x)*\n",
    "- At i-th step: *x[i+1] = x[i] - $\\alpha$ * (2*x + 5*cos(x))*"
   ]
  },
  {
   "cell_type": "code",
   "execution_count": 2,
   "metadata": {
    "ExecuteTime": {
     "end_time": "2023-07-05T04:10:00.145489Z",
     "start_time": "2023-07-05T04:10:00.143462Z"
    }
   },
   "outputs": [],
   "source": [
    "def cost(x: float) -> float:\n",
    "    return x**2 + 5*math.sin(x)\n",
    "\n",
    "def grad(x: float) -> float:\n",
    "    return 2*x + 5*math.cos(x)\n",
    "\n",
    "def grad_desc_1(eta, x0):\n",
    "    x = [x0]\n",
    "    for it in range(100):\n",
    "        x_new = x[-1] - eta*grad(x[-1])\n",
    "        if abs(grad(x_new)) < .003:#1e-3:\n",
    "            break\n",
    "        x.append(x_new)\n",
    "    return (x, it)"
   ]
  },
  {
   "cell_type": "markdown",
   "source": [
    "2. Test"
   ],
   "metadata": {
    "collapsed": false
   }
  },
  {
   "cell_type": "code",
   "execution_count": 3,
   "metadata": {
    "ExecuteTime": {
     "end_time": "2023-07-05T04:10:00.150187Z",
     "start_time": "2023-07-05T04:10:00.147543Z"
    }
   },
   "outputs": [
    {
     "name": "stdout",
     "output_type": "stream",
     "text": [
      "Solution x1 = -1.111772, cost = -3.246389, obtained after 9 iterations\n",
      "Solution x2 = -1.110029, cost = -3.246394, obtained after 28 iterations\n"
     ]
    }
   ],
   "source": [
    "(x1, it1) = grad_desc_1(.1, -5)\n",
    "(x2, it2) = grad_desc_1(.1, 5)\n",
    "print('Solution x1 = %f, cost = %f, obtained after %d iterations'%(x1[-1], cost(x1[-1]), it1))\n",
    "print('Solution x2 = %f, cost = %f, obtained after %d iterations'%(x2[-1], cost(x2[-1]), it2))"
   ]
  }
 ],
 "metadata": {
  "kernelspec": {
   "display_name": "learn-python",
   "language": "python",
   "name": "python3"
  },
  "language_info": {
   "codemirror_mode": {
    "name": "ipython",
    "version": 3
   },
   "file_extension": ".py",
   "mimetype": "text/x-python",
   "name": "python",
   "nbconvert_exporter": "python",
   "pygments_lexer": "ipython3",
   "version": "3.11.3"
  },
  "orig_nbformat": 4
 },
 "nbformat": 4,
 "nbformat_minor": 2
}
