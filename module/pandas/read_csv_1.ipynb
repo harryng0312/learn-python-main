{
 "cells": [
  {
   "cell_type": "code",
   "execution_count": null,
   "metadata": {},
   "outputs": [],
   "source": [
    "import pandas as pd\n",
    "import numpy as np\n",
    "import matplotlib.pyplot as plt\n",
    "from module.util.logger_conf import logger\n",
    "from module.conf import PROJECT_DIR\n",
    "from datetime import datetime as dt"
   ]
  },
  {
   "cell_type": "code",
   "execution_count": null,
   "metadata": {},
   "outputs": [],
   "source": [
    "DATA_FILE = \"\".join([PROJECT_DIR, \"/data/csv/mexico-real-estate-3.csv\"])"
   ]
  },
  {
   "cell_type": "code",
   "execution_count": null,
   "metadata": {},
   "outputs": [],
   "source": [
    "def load_csv(file_name: str) -> pd.DataFrame:\n",
    "    frm_data = pd.read_csv(filepath_or_buffer=file_name)\n",
    "    return frm_data"
   ]
  },
  {
   "cell_type": "code",
   "execution_count": null,
   "metadata": {},
   "outputs": [],
   "source": [
    "def plot(frm: pd.DataFrame) -> None:\n",
    "    frm = frm.iloc[[0, 100]]\n",
    "    # frm.plot(kind=\"scatter\", x=\"CustomerKey\", y=\"DateFirstPurchase\")\n",
    "    # plt.show()\n",
    "    return"
   ]
  },
  {
   "cell_type": "code",
   "execution_count": null,
   "metadata": {},
   "outputs": [],
   "source": [
    "frm = load_csv(DATA_FILE)\n",
    "# select_data(frm_fact)\n",
    "# plot(frm=frm)\n",
    "frm.dropna()\n",
    "frm.info()\n",
    "frm"
   ]
  }
 ],
 "metadata": {
  "kernelspec": {
   "display_name": "learn-python",
   "language": "python",
   "name": "python3"
  },
  "language_info": {
   "codemirror_mode": {
    "name": "ipython",
    "version": 3
   },
   "file_extension": ".py",
   "mimetype": "text/x-python",
   "name": "python",
   "nbconvert_exporter": "python",
   "pygments_lexer": "ipython3",
   "version": "3.11.3"
  },
  "orig_nbformat": 4
 },
 "nbformat": 4,
 "nbformat_minor": 2
}
